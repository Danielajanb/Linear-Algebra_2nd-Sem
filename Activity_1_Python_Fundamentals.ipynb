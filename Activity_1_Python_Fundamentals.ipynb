{
  "nbformat": 4,
  "nbformat_minor": 0,
  "metadata": {
    "colab": {
      "name": "Activity 1 - Python Fundamentals",
      "provenance": [],
      "collapsed_sections": [
        "NmBz2nXU1i9q",
        "pIR2_nZg3aUS",
        "H7qeLzIv49aF"
      ],
      "authorship_tag": "ABX9TyNBUgEFVheVoBKBEMoWsU6j",
      "include_colab_link": true
    },
    "kernelspec": {
      "name": "python3",
      "display_name": "Python 3"
    },
    "language_info": {
      "name": "python"
    }
  },
  "cells": [
    {
      "cell_type": "markdown",
      "metadata": {
        "id": "view-in-github",
        "colab_type": "text"
      },
      "source": [
        "<a href=\"https://colab.research.google.com/github/Danielajanb/Linear-Algebra_2nd-Sem/blob/main/Activity_1_Python_Fundamentals.ipynb\" target=\"_parent\"><img src=\"https://colab.research.google.com/assets/colab-badge.svg\" alt=\"Open In Colab\"/></a>"
      ]
    },
    {
      "cell_type": "markdown",
      "source": [
        "# Welcome to Python Fundamentals\n",
        "In this module, we are going to establish or review our skills in Python programming. In this notebook we are going to cover:\n",
        "* Variables and Data Types \n",
        "* Operations\n",
        "* Input and Output Operations\n",
        "* Logic Control\n",
        "* Iterables\n",
        "* Functions"
      ],
      "metadata": {
        "id": "fwHpV8tZsaJu"
      }
    },
    {
      "cell_type": "markdown",
      "source": [
        "## Variable and Data Types"
      ],
      "metadata": {
        "id": "HWAIdVqXtCoF"
      }
    },
    {
      "cell_type": "markdown",
      "source": [
        "Variables and data types are the values that change in Python, as the name implies. A variable is a memory location where you store a value in a programming language. To declare a variable in Python, there are no further commands. The variable is declared as soon as a value is assigned to it."
      ],
      "metadata": {
        "id": "qE1q_wiGq9FG"
      }
    },
    {
      "cell_type": "code",
      "source": [
        "d = 1\n",
        "z,b = 0, -1\n",
        "z"
      ],
      "metadata": {
        "colab": {
          "base_uri": "https://localhost:8080/"
        },
        "id": "d_-1-3f9tScX",
        "outputId": "ef898866-18fd-49b5-92e5-c17cea6e483b"
      },
      "execution_count": null,
      "outputs": [
        {
          "output_type": "execute_result",
          "data": {
            "text/plain": [
              "0"
            ]
          },
          "metadata": {},
          "execution_count": 4
        }
      ]
    },
    {
      "cell_type": "code",
      "source": [
        "type(d)"
      ],
      "metadata": {
        "colab": {
          "base_uri": "https://localhost:8080/"
        },
        "id": "N2vuxPzSvBNu",
        "outputId": "064d6214-71f8-42b8-9c24-2c8832ee043a"
      },
      "execution_count": null,
      "outputs": [
        {
          "output_type": "execute_result",
          "data": {
            "text/plain": [
              "int"
            ]
          },
          "metadata": {},
          "execution_count": 5
        }
      ]
    },
    {
      "cell_type": "code",
      "source": [
        "f = 1.0\n",
        "type(f)"
      ],
      "metadata": {
        "colab": {
          "base_uri": "https://localhost:8080/"
        },
        "id": "DbBRDwntvYwk",
        "outputId": "3c48623a-b384-4883-9a38-d888b1c29b3f"
      },
      "execution_count": null,
      "outputs": [
        {
          "output_type": "execute_result",
          "data": {
            "text/plain": [
              "float"
            ]
          },
          "metadata": {},
          "execution_count": 6
        }
      ]
    },
    {
      "cell_type": "code",
      "source": [
        "d = float(d)\n",
        "d"
      ],
      "metadata": {
        "colab": {
          "base_uri": "https://localhost:8080/"
        },
        "id": "yN3k2kaWvhzb",
        "outputId": "74aa3a7a-9aa9-4036-8e49-a1c4b83435dd"
      },
      "execution_count": null,
      "outputs": [
        {
          "output_type": "execute_result",
          "data": {
            "text/plain": [
              "1.0"
            ]
          },
          "metadata": {},
          "execution_count": 8
        }
      ]
    },
    {
      "cell_type": "code",
      "source": [
        "s, t, u = \"0\", '1', 'one'\n",
        "type(t)"
      ],
      "metadata": {
        "colab": {
          "base_uri": "https://localhost:8080/"
        },
        "id": "deAEJCQxwn_6",
        "outputId": "23d7625e-5618-4510-9907-c186275df033"
      },
      "execution_count": null,
      "outputs": [
        {
          "output_type": "execute_result",
          "data": {
            "text/plain": [
              "str"
            ]
          },
          "metadata": {},
          "execution_count": 12
        }
      ]
    },
    {
      "cell_type": "code",
      "source": [
        "s_int = int(s)\n",
        "s_int"
      ],
      "metadata": {
        "colab": {
          "base_uri": "https://localhost:8080/"
        },
        "id": "0KUfqFHVxKmf",
        "outputId": "66a49277-de0b-428f-ccec-25f65f98b08a"
      },
      "execution_count": null,
      "outputs": [
        {
          "output_type": "execute_result",
          "data": {
            "text/plain": [
              "0"
            ]
          },
          "metadata": {},
          "execution_count": 16
        }
      ]
    },
    {
      "cell_type": "code",
      "source": [
        "t_int = int(t)\n",
        "t_int"
      ],
      "metadata": {
        "colab": {
          "base_uri": "https://localhost:8080/"
        },
        "id": "HnpeA5k6xlo1",
        "outputId": "a40a8201-b93f-4aef-b8ff-646dbc5aa525"
      },
      "execution_count": null,
      "outputs": [
        {
          "output_type": "execute_result",
          "data": {
            "text/plain": [
              "1"
            ]
          },
          "metadata": {},
          "execution_count": 19
        }
      ]
    },
    {
      "cell_type": "code",
      "source": [
        "t_int = int(t)\n",
        "type(t)"
      ],
      "metadata": {
        "colab": {
          "base_uri": "https://localhost:8080/"
        },
        "id": "xrbRY6fexuAI",
        "outputId": "0386c38a-2d20-4ee3-96dd-065e009ce654"
      },
      "execution_count": null,
      "outputs": [
        {
          "output_type": "execute_result",
          "data": {
            "text/plain": [
              "str"
            ]
          },
          "metadata": {},
          "execution_count": 18
        }
      ]
    },
    {
      "cell_type": "markdown",
      "source": [
        "## Operations\n"
      ],
      "metadata": {
        "id": "djmg5AQUx8MO"
      }
    },
    {
      "cell_type": "markdown",
      "source": [
        "Operation on values and variables is done through operators. These are the special symbols that are used to perform arithmetic, logical, and bitwise operations."
      ],
      "metadata": {
        "id": "_myj1PwhtIT-"
      }
    },
    {
      "cell_type": "markdown",
      "source": [
        "### Arithmetic"
      ],
      "metadata": {
        "id": "SFzz9wV5yKHH"
      }
    },
    {
      "cell_type": "markdown",
      "source": [
        "Mathematical operations such as addition, subtraction, multiplication, and division are performed using arithmetic operators."
      ],
      "metadata": {
        "id": "hKw5tU93sKDM"
      }
    },
    {
      "cell_type": "code",
      "source": [
        "w, x, y, z = 2.0, -0.5, 0, -32"
      ],
      "metadata": {
        "id": "9t-x713QyNGD"
      },
      "execution_count": null,
      "outputs": []
    },
    {
      "cell_type": "code",
      "source": [
        "### Addition\n",
        "D = w + x\n",
        "D"
      ],
      "metadata": {
        "colab": {
          "base_uri": "https://localhost:8080/"
        },
        "id": "pbFgJ381yeBW",
        "outputId": "fca649e1-71c1-4690-a400-bf17ba3cd62f"
      },
      "execution_count": null,
      "outputs": [
        {
          "output_type": "execute_result",
          "data": {
            "text/plain": [
              "1.5"
            ]
          },
          "metadata": {},
          "execution_count": 29
        }
      ]
    },
    {
      "cell_type": "code",
      "source": [
        "### Subtraction\n",
        "J = w + x\n",
        "J"
      ],
      "metadata": {
        "colab": {
          "base_uri": "https://localhost:8080/"
        },
        "id": "S8NrF3bRyyfI",
        "outputId": "3850b045-b21b-4ca6-d8c8-56d9e217a4d8"
      },
      "execution_count": null,
      "outputs": [
        {
          "output_type": "execute_result",
          "data": {
            "text/plain": [
              "1.5"
            ]
          },
          "metadata": {},
          "execution_count": 30
        }
      ]
    },
    {
      "cell_type": "code",
      "source": [
        "### Multiplication\n",
        "G = w*z\n",
        "G"
      ],
      "metadata": {
        "colab": {
          "base_uri": "https://localhost:8080/"
        },
        "id": "PCUMQInuzRNZ",
        "outputId": "cd5b7e99-4fed-4b9d-e91d-170ef30c13bd"
      },
      "execution_count": null,
      "outputs": [
        {
          "output_type": "execute_result",
          "data": {
            "text/plain": [
              "-64.0"
            ]
          },
          "metadata": {},
          "execution_count": 33
        }
      ]
    },
    {
      "cell_type": "code",
      "source": [
        "### Division\n",
        "B = w/z\n",
        "B"
      ],
      "metadata": {
        "colab": {
          "base_uri": "https://localhost:8080/"
        },
        "id": "kd02M58rzpwz",
        "outputId": "8eaceaa3-3512-4931-d20b-a308d0cbab07"
      },
      "execution_count": null,
      "outputs": [
        {
          "output_type": "execute_result",
          "data": {
            "text/plain": [
              "-0.0625"
            ]
          },
          "metadata": {},
          "execution_count": 35
        }
      ]
    },
    {
      "cell_type": "code",
      "source": [
        "### Floor Division\n",
        "Q = w//z\n",
        "Q"
      ],
      "metadata": {
        "colab": {
          "base_uri": "https://localhost:8080/"
        },
        "id": "sWEVpu6Iz2Lv",
        "outputId": "c73b0b30-8873-487d-b2b4-2314c7e3917e"
      },
      "execution_count": null,
      "outputs": [
        {
          "output_type": "execute_result",
          "data": {
            "text/plain": [
              "-1.0"
            ]
          },
          "metadata": {},
          "execution_count": 37
        }
      ]
    },
    {
      "cell_type": "code",
      "source": [
        "### Exponentiation\n",
        "E = w**x\n",
        "E"
      ],
      "metadata": {
        "colab": {
          "base_uri": "https://localhost:8080/"
        },
        "id": "Hqm-1UMd0Yov",
        "outputId": "80674ce4-272e-43c3-f70c-dc35930d857c"
      },
      "execution_count": null,
      "outputs": [
        {
          "output_type": "execute_result",
          "data": {
            "text/plain": [
              "0.7071067811865476"
            ]
          },
          "metadata": {},
          "execution_count": 41
        }
      ]
    },
    {
      "cell_type": "code",
      "source": [
        "### Modulo\n",
        "Mod = d%z\n",
        "Mod"
      ],
      "metadata": {
        "colab": {
          "base_uri": "https://localhost:8080/"
        },
        "id": "2ESL5DWr0mqM",
        "outputId": "8b74242c-8885-4fae-8a8e-765dfa318aca"
      },
      "execution_count": null,
      "outputs": [
        {
          "output_type": "execute_result",
          "data": {
            "text/plain": [
              "-31.0"
            ]
          },
          "metadata": {},
          "execution_count": 40
        }
      ]
    },
    {
      "cell_type": "markdown",
      "source": [
        "### Assignment Operations"
      ],
      "metadata": {
        "id": "NmBz2nXU1i9q"
      }
    },
    {
      "cell_type": "markdown",
      "source": [
        "Variables are assigned values using assignment operators. The \"=\" symbol is used in assignment statements and assignment expressions to indicate the assignment operator. The right-hand side value or operand is assigned to the left-hand operand in the assignment operator. "
      ],
      "metadata": {
        "id": "XZO1mRxcseEl"
      }
    },
    {
      "cell_type": "code",
      "source": [
        "A, B, C, D = 0, 100, 2, 2"
      ],
      "metadata": {
        "id": "t_0mD_G41m69"
      },
      "execution_count": null,
      "outputs": []
    },
    {
      "cell_type": "code",
      "source": [
        "A += w\n",
        "A"
      ],
      "metadata": {
        "colab": {
          "base_uri": "https://localhost:8080/"
        },
        "id": "MnkAd6P-17IS",
        "outputId": "ed582efd-3121-4fb9-819d-12193bdd97fb"
      },
      "execution_count": null,
      "outputs": [
        {
          "output_type": "execute_result",
          "data": {
            "text/plain": [
              "2.0"
            ]
          },
          "metadata": {},
          "execution_count": 43
        }
      ]
    },
    {
      "cell_type": "code",
      "source": [
        "B -= z\n",
        "B"
      ],
      "metadata": {
        "colab": {
          "base_uri": "https://localhost:8080/"
        },
        "id": "TbecKN3z2Eew",
        "outputId": "b3d9b6c5-f69d-4eee-8acf-5492d3fed3ab"
      },
      "execution_count": null,
      "outputs": [
        {
          "output_type": "execute_result",
          "data": {
            "text/plain": [
              "132"
            ]
          },
          "metadata": {},
          "execution_count": 44
        }
      ]
    },
    {
      "cell_type": "code",
      "source": [
        "C *= 2\n",
        "C"
      ],
      "metadata": {
        "colab": {
          "base_uri": "https://localhost:8080/"
        },
        "id": "670AQL-M2VqB",
        "outputId": "b7d21a42-c478-48ac-ea59-e0f464760226"
      },
      "execution_count": null,
      "outputs": [
        {
          "output_type": "execute_result",
          "data": {
            "text/plain": [
              "4"
            ]
          },
          "metadata": {},
          "execution_count": 45
        }
      ]
    },
    {
      "cell_type": "code",
      "source": [
        "C *= y\n",
        "C"
      ],
      "metadata": {
        "colab": {
          "base_uri": "https://localhost:8080/"
        },
        "id": "NMG54in72dsU",
        "outputId": "005064bb-371a-45bb-ef58-74d49494a4c9"
      },
      "execution_count": null,
      "outputs": [
        {
          "output_type": "execute_result",
          "data": {
            "text/plain": [
              "0"
            ]
          },
          "metadata": {},
          "execution_count": 46
        }
      ]
    },
    {
      "cell_type": "code",
      "source": [
        "D **= 2\n",
        "D"
      ],
      "metadata": {
        "colab": {
          "base_uri": "https://localhost:8080/"
        },
        "id": "5W1dER0x2kRh",
        "outputId": "efdb5d1a-03c6-48d4-d760-f5f4d19d9640"
      },
      "execution_count": null,
      "outputs": [
        {
          "output_type": "execute_result",
          "data": {
            "text/plain": [
              "4"
            ]
          },
          "metadata": {},
          "execution_count": 47
        }
      ]
    },
    {
      "cell_type": "code",
      "source": [
        "D **= x\n",
        "D"
      ],
      "metadata": {
        "colab": {
          "base_uri": "https://localhost:8080/"
        },
        "id": "Tgkl-lwc2teU",
        "outputId": "212852c4-99d2-4751-ddbc-555be14d8194"
      },
      "execution_count": null,
      "outputs": [
        {
          "output_type": "execute_result",
          "data": {
            "text/plain": [
              "0.5"
            ]
          },
          "metadata": {},
          "execution_count": 48
        }
      ]
    },
    {
      "cell_type": "markdown",
      "source": [
        "### Comparators"
      ],
      "metadata": {
        "id": "pIR2_nZg3aUS"
      }
    },
    {
      "cell_type": "markdown",
      "source": [
        "Comparators in Python are typically used to compare two values. It usually generates True or False boolean results. "
      ],
      "metadata": {
        "id": "y7gwn4xOwDXh"
      }
    },
    {
      "cell_type": "code",
      "source": [
        "res_1, res_2, res_3 = 1, 2.0, \"1\"\n",
        "true_val = 1.0"
      ],
      "metadata": {
        "id": "qtLmBK7_3cio"
      },
      "execution_count": null,
      "outputs": []
    },
    {
      "cell_type": "code",
      "source": [
        "## Equality\n",
        "res_1 == true_val"
      ],
      "metadata": {
        "colab": {
          "base_uri": "https://localhost:8080/"
        },
        "id": "Xh1mxuGh3ujI",
        "outputId": "76653fe7-2d3c-45f1-b0de-33453cd3431e"
      },
      "execution_count": null,
      "outputs": [
        {
          "output_type": "execute_result",
          "data": {
            "text/plain": [
              "True"
            ]
          },
          "metadata": {},
          "execution_count": 53
        }
      ]
    },
    {
      "cell_type": "code",
      "source": [
        "## Equality\n",
        "res_2 == true_val"
      ],
      "metadata": {
        "colab": {
          "base_uri": "https://localhost:8080/"
        },
        "id": "tUOsB6e532VH",
        "outputId": "dbaca62d-5335-4180-ca04-7c40998ed6be"
      },
      "execution_count": null,
      "outputs": [
        {
          "output_type": "execute_result",
          "data": {
            "text/plain": [
              "False"
            ]
          },
          "metadata": {},
          "execution_count": 54
        }
      ]
    },
    {
      "cell_type": "code",
      "source": [
        "## Non-equality\n",
        "res_2 != true_val"
      ],
      "metadata": {
        "colab": {
          "base_uri": "https://localhost:8080/"
        },
        "id": "cQ409W0V37Uy",
        "outputId": "5c683f98-6021-4815-b951-d8e06683f654"
      },
      "execution_count": null,
      "outputs": [
        {
          "output_type": "execute_result",
          "data": {
            "text/plain": [
              "True"
            ]
          },
          "metadata": {},
          "execution_count": 56
        }
      ]
    },
    {
      "cell_type": "code",
      "source": [
        "## Inequality\n",
        "t1 =res_1 > res_2\n",
        "t2 =res_1 < res_2/2\n",
        "t3 =res_1 >= res_2/res_2\n",
        "t4 =res_1 <= res_2\n",
        "t1"
      ],
      "metadata": {
        "colab": {
          "base_uri": "https://localhost:8080/"
        },
        "id": "TpHp-Yis4KDY",
        "outputId": "a28570f7-fc0f-4eb8-caba-58cb057f96e3"
      },
      "execution_count": null,
      "outputs": [
        {
          "output_type": "execute_result",
          "data": {
            "text/plain": [
              "False"
            ]
          },
          "metadata": {},
          "execution_count": 57
        }
      ]
    },
    {
      "cell_type": "code",
      "source": [
        "## Inequality\n",
        "t1 =res_1 > res_2\n",
        "t2 =res_1 < res_2/2\n",
        "t3 =res_1 >= res_2/res_2\n",
        "t4 =res_1 <= res_2\n",
        "t2"
      ],
      "metadata": {
        "colab": {
          "base_uri": "https://localhost:8080/"
        },
        "id": "z3jOgcTo4zay",
        "outputId": "b8578020-2080-416a-b688-3bfa91b22e94"
      },
      "execution_count": null,
      "outputs": [
        {
          "output_type": "execute_result",
          "data": {
            "text/plain": [
              "False"
            ]
          },
          "metadata": {},
          "execution_count": 58
        }
      ]
    },
    {
      "cell_type": "code",
      "source": [
        "## Inequality\n",
        "t1 =res_1 > res_2\n",
        "t2 =res_1 < res_2/2\n",
        "t3 =res_1 >= res_2/res_2\n",
        "t4 =res_1 <= res_2\n",
        "t3"
      ],
      "metadata": {
        "colab": {
          "base_uri": "https://localhost:8080/"
        },
        "id": "UpZocTGS42zp",
        "outputId": "c433dc39-2bc1-49d4-a0dc-a63d2cf089ec"
      },
      "execution_count": null,
      "outputs": [
        {
          "output_type": "execute_result",
          "data": {
            "text/plain": [
              "True"
            ]
          },
          "metadata": {},
          "execution_count": 59
        }
      ]
    },
    {
      "cell_type": "code",
      "source": [
        "## Inequality\n",
        "t1 =res_1 > res_2\n",
        "t2 =res_1 < res_2/2\n",
        "t3 =res_1 >= res_2/res_2\n",
        "t4 =res_1 <= res_2\n",
        "t4"
      ],
      "metadata": {
        "colab": {
          "base_uri": "https://localhost:8080/"
        },
        "id": "rQ-o9L7g45fm",
        "outputId": "677a50eb-d272-4b38-ec90-68b759c9302f"
      },
      "execution_count": null,
      "outputs": [
        {
          "output_type": "execute_result",
          "data": {
            "text/plain": [
              "True"
            ]
          },
          "metadata": {},
          "execution_count": 60
        }
      ]
    },
    {
      "cell_type": "markdown",
      "source": [
        "### Logical"
      ],
      "metadata": {
        "id": "H7qeLzIv49aF"
      }
    },
    {
      "cell_type": "markdown",
      "source": [
        "For combine conditional statements, logical operators are used. Logical Operators used are \"and\", \"or\", \"not\". Operator \"and\" is used if both operands are true, the result is true. Operator \"or\" is used if either operands are true. And the operator \"not\" is used if the operand is false, the result is true. "
      ],
      "metadata": {
        "id": "psHP9_6pxEek"
      }
    },
    {
      "cell_type": "code",
      "source": [
        "res_1 == true_val"
      ],
      "metadata": {
        "colab": {
          "base_uri": "https://localhost:8080/"
        },
        "id": "IeTkMluV5AgR",
        "outputId": "98359922-4997-4113-f9f5-bf46adeaf3a3"
      },
      "execution_count": null,
      "outputs": [
        {
          "output_type": "execute_result",
          "data": {
            "text/plain": [
              "True"
            ]
          },
          "metadata": {},
          "execution_count": 61
        }
      ]
    },
    {
      "cell_type": "code",
      "source": [
        "res_1 is true_val"
      ],
      "metadata": {
        "colab": {
          "base_uri": "https://localhost:8080/"
        },
        "id": "Z02C38nq5c6C",
        "outputId": "58be12ce-91ba-4da9-cb66-0dc3b0313b56"
      },
      "execution_count": null,
      "outputs": [
        {
          "output_type": "execute_result",
          "data": {
            "text/plain": [
              "False"
            ]
          },
          "metadata": {},
          "execution_count": 62
        }
      ]
    },
    {
      "cell_type": "code",
      "source": [
        "res_1 is not true_val"
      ],
      "metadata": {
        "colab": {
          "base_uri": "https://localhost:8080/"
        },
        "id": "LKccGDeT5gRx",
        "outputId": "0bcaca43-f599-46c8-df6b-18dbba5cd9ef"
      },
      "execution_count": null,
      "outputs": [
        {
          "output_type": "execute_result",
          "data": {
            "text/plain": [
              "True"
            ]
          },
          "metadata": {},
          "execution_count": 63
        }
      ]
    },
    {
      "cell_type": "code",
      "source": [
        "p, q = True, True\n",
        "conj = p and q\n",
        "conj"
      ],
      "metadata": {
        "colab": {
          "base_uri": "https://localhost:8080/"
        },
        "id": "7hgoGcVD7WLi",
        "outputId": "ab879c13-29e6-425c-8035-3ffeb1016883"
      },
      "execution_count": null,
      "outputs": [
        {
          "output_type": "execute_result",
          "data": {
            "text/plain": [
              "True"
            ]
          },
          "metadata": {},
          "execution_count": 70
        }
      ]
    },
    {
      "cell_type": "code",
      "source": [
        "p, q = True, False\n",
        "conj = p and q\n",
        "conj"
      ],
      "metadata": {
        "colab": {
          "base_uri": "https://localhost:8080/"
        },
        "id": "1YHseHHf5kem",
        "outputId": "206a991d-be32-48b4-f763-00bc386f527f"
      },
      "execution_count": null,
      "outputs": [
        {
          "output_type": "execute_result",
          "data": {
            "text/plain": [
              "False"
            ]
          },
          "metadata": {},
          "execution_count": 66
        }
      ]
    },
    {
      "cell_type": "code",
      "source": [
        "p, q = True, False\n",
        "disj = p or q\n",
        "disj"
      ],
      "metadata": {
        "colab": {
          "base_uri": "https://localhost:8080/"
        },
        "id": "00ZAURGl5wFy",
        "outputId": "83a11121-f50f-4d14-da11-68ee6b444889"
      },
      "execution_count": null,
      "outputs": [
        {
          "output_type": "execute_result",
          "data": {
            "text/plain": [
              "True"
            ]
          },
          "metadata": {},
          "execution_count": 67
        }
      ]
    },
    {
      "cell_type": "code",
      "source": [
        "p, q = True, False\n",
        "e = not(p and q)\n",
        "e"
      ],
      "metadata": {
        "colab": {
          "base_uri": "https://localhost:8080/"
        },
        "id": "GAd-YzE97PVs",
        "outputId": "851d0772-807a-4e80-9ee1-12d5d25ba3ff"
      },
      "execution_count": null,
      "outputs": [
        {
          "output_type": "execute_result",
          "data": {
            "text/plain": [
              "True"
            ]
          },
          "metadata": {},
          "execution_count": 71
        }
      ]
    },
    {
      "cell_type": "code",
      "source": [
        "p, q = True, False\n",
        "xor = (not p and q) or (p and not q)\n",
        "xor"
      ],
      "metadata": {
        "colab": {
          "base_uri": "https://localhost:8080/"
        },
        "id": "q4yyhu0V7t5d",
        "outputId": "5caf3803-f999-412a-a4d4-5effdc150684"
      },
      "execution_count": null,
      "outputs": [
        {
          "output_type": "execute_result",
          "data": {
            "text/plain": [
              "True"
            ]
          },
          "metadata": {},
          "execution_count": 72
        }
      ]
    },
    {
      "cell_type": "markdown",
      "source": [
        "### I/0"
      ],
      "metadata": {
        "id": "8IG6iZkQ74va"
      }
    },
    {
      "cell_type": "markdown",
      "source": [
        "Input function takes the user's input and then evaluates the expression, which means Python recognizes if the user typed a text, a number, or a list automatically. The input function is used to enter data while the output function is used to present the result. The command print is used in this function to display the word that was given."
      ],
      "metadata": {
        "id": "avaSlzyXyE2e"
      }
    },
    {
      "cell_type": "code",
      "source": [
        "print(\"Hello Baby\")"
      ],
      "metadata": {
        "colab": {
          "base_uri": "https://localhost:8080/"
        },
        "id": "fw2f0qh278aN",
        "outputId": "63e193df-bbf4-4e43-d1f5-0ed70efec2ce"
      },
      "execution_count": null,
      "outputs": [
        {
          "output_type": "stream",
          "name": "stdout",
          "text": [
            "Hello Baby\n"
          ]
        }
      ]
    },
    {
      "cell_type": "code",
      "source": [
        "cnt = 26"
      ],
      "metadata": {
        "id": "dDyPJsFv8BIe"
      },
      "execution_count": null,
      "outputs": []
    },
    {
      "cell_type": "code",
      "source": [
        "string = \"Hello Baby\"\n",
        "print(string, \", Current run count is:\", cnt)\n",
        "cnt +=26"
      ],
      "metadata": {
        "colab": {
          "base_uri": "https://localhost:8080/"
        },
        "id": "EsmkTmM08EiW",
        "outputId": "d88f3fbc-b6b5-443b-97cf-b7a1a8eec405"
      },
      "execution_count": null,
      "outputs": [
        {
          "output_type": "stream",
          "name": "stdout",
          "text": [
            "Hello Baby , Current run count is: 26\n"
          ]
        }
      ]
    },
    {
      "cell_type": "code",
      "source": [
        "print(f\"{string}, Current count is: {cnt}\")"
      ],
      "metadata": {
        "colab": {
          "base_uri": "https://localhost:8080/"
        },
        "id": "ejYBIfQl8kIK",
        "outputId": "4947eba9-4403-4b24-b811-eb337e63b48b"
      },
      "execution_count": null,
      "outputs": [
        {
          "output_type": "stream",
          "name": "stdout",
          "text": [
            "Hello Baby, Current count is: 52\n"
          ]
        }
      ]
    },
    {
      "cell_type": "code",
      "source": [
        "sem_grade = 90.987\n",
        "name = \"Daniela Bautista\"\n",
        "print(\"Hello Daniela Bautista, your semestral grade is: 90.987\")"
      ],
      "metadata": {
        "colab": {
          "base_uri": "https://localhost:8080/"
        },
        "id": "sf8CliwO8_Al",
        "outputId": "f3a76af9-430d-4bee-e3ba-d3218ca2692d"
      },
      "execution_count": null,
      "outputs": [
        {
          "output_type": "stream",
          "name": "stdout",
          "text": [
            "Hello Daniela Bautista, your semestral grade is: 90.987\n"
          ]
        }
      ]
    },
    {
      "cell_type": "code",
      "source": [
        "w_pg, w_mg, w_fg = 0.3, 0.3, 0.4\n",
        "print(\"The weights of your semestral gardes are:\\\n",
        "\\n\\t{:.2%} for Prelims\\\n",
        "\\n\\t{:.2%} for Midterms, and\\\n",
        "\\n\\t{:.2%} for Finals.\".format(w_pg, w_mg, w_fg))"
      ],
      "metadata": {
        "colab": {
          "base_uri": "https://localhost:8080/"
        },
        "id": "_xU2BCAV0bT_",
        "outputId": "fdb4daff-1f01-404b-c4eb-8045a43e5dc2"
      },
      "execution_count": null,
      "outputs": [
        {
          "output_type": "stream",
          "name": "stdout",
          "text": [
            "The weights of your semestral gardes are:\n",
            "\t30.00% for Prelims\n",
            "\t30.00% for Midterms, and\n",
            "\t40.00% for Finals.\n"
          ]
        }
      ]
    },
    {
      "cell_type": "code",
      "source": [
        "x = input(\"enter a number:\")\n",
        "x"
      ],
      "metadata": {
        "colab": {
          "base_uri": "https://localhost:8080/",
          "height": 53
        },
        "id": "YCk13pgG0jva",
        "outputId": "4bb9cc37-5057-4cf4-f2ce-38fcc9b8ba79"
      },
      "execution_count": null,
      "outputs": [
        {
          "name": "stdout",
          "output_type": "stream",
          "text": [
            "enter a number:04\n"
          ]
        },
        {
          "output_type": "execute_result",
          "data": {
            "application/vnd.google.colaboratory.intrinsic+json": {
              "type": "string"
            },
            "text/plain": [
              "'04'"
            ]
          },
          "metadata": {},
          "execution_count": 4
        }
      ]
    },
    {
      "cell_type": "code",
      "source": [
        "name = input(\"Kimi no nawa: \")\n",
        "pg = input(\"Enter prelim grade: \")\n",
        "mg = input(\"Enter midterm grade: \")\n",
        "fg = input(\"Enter prelim grade: \")\n",
        "sem_grade = None\n",
        "print(\"Hello {}, your semestral grade is: {}\".format(name, sem_grade))"
      ],
      "metadata": {
        "colab": {
          "base_uri": "https://localhost:8080/"
        },
        "id": "hSzQC7Ht0tCj",
        "outputId": "7320dc6a-56f8-43fd-ae22-bbf09cc7b71b"
      },
      "execution_count": null,
      "outputs": [
        {
          "output_type": "stream",
          "name": "stdout",
          "text": [
            "Kimi no nawa: dj\n",
            "Enter prelim grade: 90\n",
            "Enter midterm grade: 99\n",
            "Enter prelim grade: 92\n",
            "Hello dj, your semestral grade is: None\n"
          ]
        }
      ]
    },
    {
      "cell_type": "markdown",
      "source": [
        "#Looping\n"
      ],
      "metadata": {
        "id": "zEyYzjeZyIRk"
      }
    },
    {
      "cell_type": "markdown",
      "source": [
        "##While\n"
      ],
      "metadata": {
        "id": "IO68UaxS1E-u"
      }
    },
    {
      "cell_type": "markdown",
      "source": [
        "While loops are similar to if statements in that they execute the code inside if the condition is True. The while loop, on the other hand, executes the code continually as long as the condition is True, unlike the if statement. Iterating over a sequence is done with a for loop (that is either a list, a tuple, a dictionary, a set, or a string). The for loop allows us to run a sequence of statements once for each item in a list, tuple, set, or other data structure."
      ],
      "metadata": {
        "id": "YN6Trw0g0sge"
      }
    },
    {
      "cell_type": "code",
      "source": [
        "## while loops\n",
        "i, j = 0, 10\n",
        "while(i<=j):\n",
        "    print(f\"{i}\\t|\\t{j}\")\n",
        "    i+=1"
      ],
      "metadata": {
        "colab": {
          "base_uri": "https://localhost:8080/"
        },
        "id": "6DZ-bhj41HTq",
        "outputId": "8eb9c619-26c4-400d-d43f-7265748a290c"
      },
      "execution_count": null,
      "outputs": [
        {
          "output_type": "stream",
          "name": "stdout",
          "text": [
            "0\t|\t10\n",
            "1\t|\t10\n",
            "2\t|\t10\n",
            "3\t|\t10\n",
            "4\t|\t10\n",
            "5\t|\t10\n",
            "6\t|\t10\n",
            "7\t|\t10\n",
            "8\t|\t10\n",
            "9\t|\t10\n",
            "10\t|\t10\n"
          ]
        }
      ]
    },
    {
      "cell_type": "code",
      "source": [
        "##For\n",
        "\n",
        "# for(int i=0; i<10; i++){\n",
        "# printf(i)\n",
        "# }\n",
        "i=0\n",
        "for i in range(10):\n",
        "    print(i)"
      ],
      "metadata": {
        "colab": {
          "base_uri": "https://localhost:8080/"
        },
        "id": "KD_tzFNH1KVN",
        "outputId": "70c0b780-6876-48eb-c6dc-564383c6e6f6"
      },
      "execution_count": null,
      "outputs": [
        {
          "output_type": "stream",
          "name": "stdout",
          "text": [
            "0\n",
            "1\n",
            "2\n",
            "3\n",
            "4\n",
            "5\n",
            "6\n",
            "7\n",
            "8\n",
            "9\n"
          ]
        }
      ]
    },
    {
      "cell_type": "code",
      "source": [
        "playlist = [\"Andrhea\",\"Demi\",\"Jere\",\"Dani\",\"Lera\"]\n",
        "print('Now Playing:\\n')\n",
        "for song in playlist:\n",
        "    print(song)"
      ],
      "metadata": {
        "colab": {
          "base_uri": "https://localhost:8080/"
        },
        "id": "dOgrlgP11NlX",
        "outputId": "d1fd5309-e2b9-47f4-9234-e1dcf37859e3"
      },
      "execution_count": null,
      "outputs": [
        {
          "output_type": "stream",
          "name": "stdout",
          "text": [
            "Now Playing:\n",
            "\n",
            "Andrhea\n",
            "Demi\n",
            "Jere\n",
            "Dani\n",
            "Lera\n"
          ]
        }
      ]
    },
    {
      "cell_type": "markdown",
      "source": [
        "#Flow Control"
      ],
      "metadata": {
        "id": "3uS3D0m5y-W1"
      }
    },
    {
      "cell_type": "markdown",
      "source": [
        "##Condition Statements\n"
      ],
      "metadata": {
        "id": "nquLpT5MzAn8"
      }
    },
    {
      "cell_type": "markdown",
      "source": [
        "Condition statements uses if, elif and else operators. The if Statement in Python is used to make decisions. It comprises a piece of code that only executes when the if statement's condition is true. When judging one assertion against another, the \"else condition\" is commonly utilized. When you use the \"elif\" condition, you're directing the software to print out the third condition or possibility if the first one fails."
      ],
      "metadata": {
        "id": "nMAEXrZB2w4C"
      }
    },
    {
      "cell_type": "code",
      "source": [
        "numeral1, numeral2 = 13, 14\n",
        "if(numeral1 == numeral2):\n",
        "  print(\"Yey\")\n",
        "elif(numeral1>numeral2):\n",
        "  print(\"Hoho\")\n",
        "else:\n",
        "  print(\"Aww\")\n"
      ],
      "metadata": {
        "colab": {
          "base_uri": "https://localhost:8080/"
        },
        "id": "nE9Iv07JzFyP",
        "outputId": "ca3cfc0e-669a-4be7-866c-7aef165c008c"
      },
      "execution_count": null,
      "outputs": [
        {
          "output_type": "stream",
          "name": "stdout",
          "text": [
            "Aww\n"
          ]
        }
      ]
    },
    {
      "cell_type": "markdown",
      "source": [
        "##Functions\n"
      ],
      "metadata": {
        "id": "dQhGIM-l1i8o"
      }
    },
    {
      "cell_type": "markdown",
      "source": [
        "A function is a code block that only executes when it is invoked. Parameters are data that can be passed into a function. As a result, a function can return data."
      ],
      "metadata": {
        "id": "BDAF_Ju63WYP"
      }
    },
    {
      "cell_type": "code",
      "source": [
        "# void DeleteUser(int userid){\n",
        "# delete(userid;)\n",
        "#}\n",
        "\n",
        "def delete_user (userid):\n",
        "  print(\"Successfully deleted user: {}\".format(userid))\n",
        "\n",
        "def delete_all_users ():\n",
        "  print(\"All of us are Dead\")"
      ],
      "metadata": {
        "id": "ttMlcNC31k7S"
      },
      "execution_count": null,
      "outputs": []
    },
    {
      "cell_type": "code",
      "source": [
        "userid = \"DJB\"\n",
        "delete_user(\"DJB\")\n",
        "delete_all_users()"
      ],
      "metadata": {
        "colab": {
          "base_uri": "https://localhost:8080/"
        },
        "id": "rN30rXhD2S2Y",
        "outputId": "be085297-ed61-4885-b524-0c7879867e9d"
      },
      "execution_count": null,
      "outputs": [
        {
          "output_type": "stream",
          "name": "stdout",
          "text": [
            "Successfully deleted user: DJB\n",
            "All of us are Dead\n"
          ]
        }
      ]
    },
    {
      "cell_type": "code",
      "source": [
        "def add(addend1, addend2):\n",
        "  return addend1 + addend2\n",
        "\n",
        "def power_of_base2(exponent):\n",
        "  return 2**exponent"
      ],
      "metadata": {
        "id": "IRO-bQ68212c"
      },
      "execution_count": null,
      "outputs": []
    },
    {
      "cell_type": "code",
      "source": [
        "addend1, addend2 = 24, 25\n",
        "add(addend1, addend2)\n",
        "\n",
        "exponent = 8\n",
        "power_of_base2(exponent)"
      ],
      "metadata": {
        "colab": {
          "base_uri": "https://localhost:8080/"
        },
        "id": "qtrM0H_s3nvc",
        "outputId": "e1544893-22f7-4588-918c-85811abb0b84"
      },
      "execution_count": null,
      "outputs": [
        {
          "output_type": "execute_result",
          "data": {
            "text/plain": [
              "256"
            ]
          },
          "metadata": {},
          "execution_count": 33
        }
      ]
    },
    {
      "cell_type": "code",
      "source": [
        "w_pg, w_mg, w_fg = 0.3, 0.3, 0.4\n",
        "Name = input(\"Enter your name: \")\n",
        "Course = input(\"Enter your course: \")\n",
        "pg = float (input(\"Enter Prelim Grade: \"))\n",
        "mg = float (input(\"Enter Midterm Grade: \"))\n",
        "fg = float (input(\"Enter Finals Grade: \"))\n",
        "sem_grade = (pg*w_pg)+(mg*w_mg)+(fg*w_fg)\n",
        "print(\"Hello {}, from {}, your semestral grade for this subject is: {}\".format(Name, Course, round(sem_grade, 2)))\n",
        "if(sem_grade > 70.00):\n",
        "  print(\"❤️\")\n",
        "elif(sem_grade == 70.00):\n",
        "  print(\"🤍\")\n",
        "else:\n",
        "  print(\"💔\")\n"
      ],
      "metadata": {
        "id": "GyXqtejBSoHL"
      },
      "execution_count": null,
      "outputs": []
    },
    {
      "cell_type": "code",
      "source": [
        ""
      ],
      "metadata": {
        "id": "f-TduP10TmtY"
      },
      "execution_count": null,
      "outputs": []
    }
  ]
}