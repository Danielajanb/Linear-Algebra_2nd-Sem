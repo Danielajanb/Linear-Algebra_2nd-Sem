{
  "nbformat": 4,
  "nbformat_minor": 0,
  "metadata": {
    "colab": {
      "name": "Assignment 3.ipynb",
      "provenance": [],
      "authorship_tag": "ABX9TyNbiHlJmQOln9vKHvPiWqF1",
      "include_colab_link": true
    },
    "kernelspec": {
      "name": "python3",
      "display_name": "Python 3"
    },
    "language_info": {
      "name": "python"
    }
  },
  "cells": [
    {
      "cell_type": "markdown",
      "metadata": {
        "id": "view-in-github",
        "colab_type": "text"
      },
      "source": [
        "<a href=\"https://colab.research.google.com/github/Danielajanb/Linear-Algebra_2nd-Sem/blob/main/Assignment_3.ipynb\" target=\"_parent\"><img src=\"https://colab.research.google.com/assets/colab-badge.svg\" alt=\"Open In Colab\"/></a>"
      ]
    },
    {
      "cell_type": "markdown",
      "source": [
        "# Linear Algebra for ECE\n",
        "## Laboratory 4 : Matrices"
      ],
      "metadata": {
        "id": "tHFA_9fyqELm"
      }
    },
    {
      "cell_type": "markdown",
      "source": [
        "# Discussion"
      ],
      "metadata": {
        "id": "J3L_GlMFqfvE"
      }
    },
    {
      "cell_type": "code",
      "source": [
        "import numpy as np\n",
        "import matplotlib.pyplot as plt\n",
        "import scipy.linalg as la\n",
        "%matplotlib inline"
      ],
      "metadata": {
        "id": "FvqFlhW-qilP"
      },
      "execution_count": 1,
      "outputs": []
    },
    {
      "cell_type": "markdown",
      "source": [
        "### Matrices"
      ],
      "metadata": {
        "id": "FLrUPRbkqlcH"
      }
    },
    {
      "cell_type": "markdown",
      "source": [
        "Matrix notation and utilization is likely one of the most fundamental aspects of modern computing. Matrices are also useful representations of complex equations or many interconnected equations, ranging from two-dimensional to hundreds or thousands of them."
      ],
      "metadata": {
        "id": "Aw9Uf2SUquAH"
      }
    },
    {
      "cell_type": "markdown",
      "source": [
        "Let's say for example you have $A$ and $B$ as system of equation."
      ],
      "metadata": {
        "id": "viDfnl6Jq16B"
      }
    },
    {
      "cell_type": "markdown",
      "source": [
        "$$\n",
        "A = \\left\\{\n",
        "    \\begin{array}\\\n",
        "        x + y \\\\ \n",
        "        4x - 10y\n",
        "    \\end{array}\n",
        "\\right. \\\\\n",
        "B = \\left\\{\n",
        "    \\begin{array}\\\n",
        "        x+y+z \\\\ \n",
        "        3x -2y -z \\\\\n",
        "        -x + 4y +2z\n",
        "    \\end{array}\n",
        "\\right. $$"
      ],
      "metadata": {
        "id": "PZN0tLcEq4s2"
      }
    },
    {
      "cell_type": "markdown",
      "source": [
        "We could see that $A$ is a system of 2 equations with 2 parameters. While $B$ is a system of 3 equations with 3 parameters. We can represent them as matrices as:"
      ],
      "metadata": {
        "id": "XQ_e7pWqq78y"
      }
    },
    {
      "cell_type": "markdown",
      "source": [
        "$$\n",
        "A=\\begin{bmatrix} 1 & 1 \\\\ 4 & {-10}\\end{bmatrix} \\\\\n",
        "B=\\begin{bmatrix} 1 & 1 & 1 \\\\ 3 & -2 & -1 \\\\ -1 & 4 & 2\\end{bmatrix}\n",
        "$$"
      ],
      "metadata": {
        "id": "eGFcM-JYq8t9"
      }
    },
    {
      "cell_type": "markdown",
      "source": [
        "So assuming that you already discussed the fundamental representation of matrices, their types, and operations. We'll proceed in doing them in here in Python."
      ],
      "metadata": {
        "id": "xmwx_bnArBVk"
      }
    },
    {
      "cell_type": "markdown",
      "source": [
        "### Declaring Matrices"
      ],
      "metadata": {
        "id": "nHPFwYygrC-k"
      }
    },
    {
      "cell_type": "markdown",
      "source": [
        "Just like our previous laboratory activity, we'll represent system of linear equations as a matrix. The entities or numbers in matrices are called the elements of a matrix. These elements are arranged and ordered in rows and columns which form the list/array-like structure of matrices. And just like arrays, these elements are indexed according to their position with respect to their rows and columns. This can be reprsented just like the equation below. Whereas $A$ is a matrix consisting of elements denoted by $a_{i,j}$. Denoted by $i$ is the number of rows in the matrix while $j$ stands for the number of columns.<br>\n",
        "Do note that the $size$ of a matrix is $i\\times j$."
      ],
      "metadata": {
        "id": "1Zgw0EnsrFJ_"
      }
    },
    {
      "cell_type": "markdown",
      "source": [
        "$$A=\\begin{bmatrix}\n",
        "a_{(0,0)}&a_{(0,1)}&\\dots&a_{(0,j-1)}\\\\\n",
        "a_{(1,0)}&a_{(1,1)}&\\dots&a_{(1,j-1)}\\\\\n",
        "\\vdots&\\vdots&\\ddots&\\vdots&\\\\\n",
        "a_{(i-1,0)}&a_{(i-1,1)}&\\dots&a_{(i-1,j-1)}\n",
        "\\end{bmatrix}\n",
        "$$"
      ],
      "metadata": {
        "id": "fh7d4lB-rJ80"
      }
    },
    {
      "cell_type": "markdown",
      "source": [
        "We already gone over some of the types of matrices as vectors but we'll further discuss them in this laboratory activity. Since you already know how to describe vectors using <b>shape</b>, <b>dimensions</b> and <b>size</b> attributes, we'll use them to analyze these matrices."
      ],
      "metadata": {
        "id": "FSbtRLLBrMXO"
      }
    },
    {
      "cell_type": "code",
      "source": [
        "## Since we'll keep on describing matrices. Let's make a function.\n",
        "def describe_mat(matrix):\n",
        "    print(f'Matrix:\\n{matrix}\\n\\nShape:\\t{matrix.shape}\\nRank:\\t{matrix.ndim}\\n')"
      ],
      "metadata": {
        "id": "cDuygpZorPNx"
      },
      "execution_count": 2,
      "outputs": []
    },
    {
      "cell_type": "code",
      "source": [
        "## Declaring a 2 x 2 matrix\n",
        "A = np.array([\n",
        "    [1, 2],\n",
        "    [3, 1]\n",
        "])\n",
        "describe_mat(A)"
      ],
      "metadata": {
        "colab": {
          "base_uri": "https://localhost:8080/"
        },
        "id": "n62sDVsQrSIU",
        "outputId": "d12ca851-350f-4175-b8de-c1513b384a25"
      },
      "execution_count": 3,
      "outputs": [
        {
          "output_type": "stream",
          "name": "stdout",
          "text": [
            "Matrix:\n",
            "[[1 2]\n",
            " [3 1]]\n",
            "\n",
            "Shape:\t(2, 2)\n",
            "Rank:\t2\n",
            "\n"
          ]
        }
      ]
    },
    {
      "cell_type": "code",
      "source": [
        "G = np.array([\n",
        "    [1,1],\n",
        "    [2,2]\n",
        "])\n",
        "describe_mat(G)"
      ],
      "metadata": {
        "colab": {
          "base_uri": "https://localhost:8080/"
        },
        "id": "P-xnKmfVrTI7",
        "outputId": "375333b4-4508-4951-a1f9-d43aa5c043f7"
      },
      "execution_count": 4,
      "outputs": [
        {
          "output_type": "stream",
          "name": "stdout",
          "text": [
            "Matrix:\n",
            "[[1 1]\n",
            " [2 2]]\n",
            "\n",
            "Shape:\t(2, 2)\n",
            "Rank:\t2\n",
            "\n"
          ]
        }
      ]
    },
    {
      "cell_type": "code",
      "source": [
        "## Declaring a 3 x 2 matrix\n",
        "B = np.array([\n",
        "    [8, 2],\n",
        "    [5, 4],\n",
        "    [1, 1]\n",
        "])\n",
        "describe_mat(B)"
      ],
      "metadata": {
        "colab": {
          "base_uri": "https://localhost:8080/"
        },
        "id": "6OnCmxGzrkUv",
        "outputId": "b229f35b-04ed-496b-daf2-54a3b3125c12"
      },
      "execution_count": 5,
      "outputs": [
        {
          "output_type": "stream",
          "name": "stdout",
          "text": [
            "Matrix:\n",
            "[[8 2]\n",
            " [5 4]\n",
            " [1 1]]\n",
            "\n",
            "Shape:\t(3, 2)\n",
            "Rank:\t2\n",
            "\n"
          ]
        }
      ]
    },
    {
      "cell_type": "code",
      "source": [
        "H = np.array([1,2,3,4,5])\n",
        "describe_mat(H)"
      ],
      "metadata": {
        "colab": {
          "base_uri": "https://localhost:8080/"
        },
        "id": "Qu-2xWfcrm2-",
        "outputId": "cff3042a-971b-40c9-bfc7-2c60075a9f05"
      },
      "execution_count": 6,
      "outputs": [
        {
          "output_type": "stream",
          "name": "stdout",
          "text": [
            "Matrix:\n",
            "[1 2 3 4 5]\n",
            "\n",
            "Shape:\t(5,)\n",
            "Rank:\t1\n",
            "\n"
          ]
        }
      ]
    },
    {
      "cell_type": "markdown",
      "source": [
        "## Categorizing Matrices"
      ],
      "metadata": {
        "id": "FpBvk8xOrplO"
      }
    },
    {
      "cell_type": "markdown",
      "source": [
        "Matrixes can be classified in a variety of ways. One may be based on their shape, while the other could be based on their element values. We'll do our best to get through them."
      ],
      "metadata": {
        "id": "96MfyJ0FrqEL"
      }
    },
    {
      "cell_type": "markdown",
      "source": [
        "### According to shape"
      ],
      "metadata": {
        "id": "HgU1DjGbr0qW"
      }
    },
    {
      "cell_type": "markdown",
      "source": [
        "#### Row and Column Matrices"
      ],
      "metadata": {
        "id": "BtQrmdtxr4o2"
      }
    },
    {
      "cell_type": "markdown",
      "source": [
        "Row and column matrices are common in vector and matrix computations. They can also represent row and column spaces of a bigger vector space. Row and column matrices are represented by a single column or single row. So with that being, the shape of row matrices would be $1 \\times j$ and column matrices would be $i \\times 1$."
      ],
      "metadata": {
        "id": "T1_KJtY3r60n"
      }
    },
    {
      "cell_type": "code",
      "source": [
        "## Declaring a Row Matrix\n",
        "\n",
        "row_mat_1D = np.array([\n",
        "    1, 3, 2\n",
        "]) ## this is a 1-D Matrix with a shape of (3,), it's not really considered as a row matrix.\n",
        "row_mat_2D = np.array([\n",
        "    [1,2,3]\n",
        "]) ## this is a 2-D Matrix with a shape of (1,3)\n",
        "describe_mat(row_mat_1D)\n",
        "describe_mat(row_mat_2D)"
      ],
      "metadata": {
        "colab": {
          "base_uri": "https://localhost:8080/"
        },
        "id": "i1wfnSsir8qm",
        "outputId": "da151129-c4c4-49eb-fea7-7d6a0cfcb068"
      },
      "execution_count": 7,
      "outputs": [
        {
          "output_type": "stream",
          "name": "stdout",
          "text": [
            "Matrix:\n",
            "[1 3 2]\n",
            "\n",
            "Shape:\t(3,)\n",
            "Rank:\t1\n",
            "\n",
            "Matrix:\n",
            "[[1 2 3]]\n",
            "\n",
            "Shape:\t(1, 3)\n",
            "Rank:\t2\n",
            "\n"
          ]
        }
      ]
    },
    {
      "cell_type": "code",
      "source": [
        "## Declaring a Column Matrix\n",
        "\n",
        "col_mat = np.array([\n",
        "    [1],\n",
        "    [2],\n",
        "    [5]\n",
        "]) ## this is a 2-D Matrix with a shape of (3,1)\n",
        "describe_mat(col_mat)"
      ],
      "metadata": {
        "colab": {
          "base_uri": "https://localhost:8080/"
        },
        "id": "b8SbZ4x9r-BP",
        "outputId": "c2325038-6e48-4356-f463-fcda91c36be8"
      },
      "execution_count": 8,
      "outputs": [
        {
          "output_type": "stream",
          "name": "stdout",
          "text": [
            "Matrix:\n",
            "[[1]\n",
            " [2]\n",
            " [5]]\n",
            "\n",
            "Shape:\t(3, 1)\n",
            "Rank:\t2\n",
            "\n"
          ]
        }
      ]
    },
    {
      "cell_type": "markdown",
      "source": [
        "#### Square Matrices"
      ],
      "metadata": {
        "id": "gIlNdQ0BsD8e"
      }
    },
    {
      "cell_type": "markdown",
      "source": [
        "Square matrices are matrices that have the same row and column sizes. We could say a matrix is square if $i = j$. We can tweak our matrix descriptor function to determine square matrices."
      ],
      "metadata": {
        "id": "Dx7_stB_sGe1"
      }
    },
    {
      "cell_type": "code",
      "source": [
        "def describe_mat(matrix):\n",
        "    is_square = True if matrix.shape[0] == matrix.shape[1] else False \n",
        "    print(f'Matrix:\\n{matrix}\\n\\nShape:\\t{matrix.shape}\\nRank:\\t{matrix.ndim}\\nIs Square: {is_square}\\n')"
      ],
      "metadata": {
        "id": "bVFr_BBssI5r"
      },
      "execution_count": 9,
      "outputs": []
    },
    {
      "cell_type": "code",
      "source": [
        "square_mat = np.array([\n",
        "    [1,2,5],\n",
        "    [3,3,8],\n",
        "    [6,1,2]\n",
        "])\n",
        "\n",
        "non_square_mat = np.array([\n",
        "    [1,2,5],\n",
        "    [3,3,8]\n",
        "])\n",
        "describe_mat(square_mat)\n",
        "describe_mat(non_square_mat)"
      ],
      "metadata": {
        "colab": {
          "base_uri": "https://localhost:8080/"
        },
        "id": "EL6VWyeysL8G",
        "outputId": "db612d72-d832-4cd4-bcc0-d780d5ad2d41"
      },
      "execution_count": 10,
      "outputs": [
        {
          "output_type": "stream",
          "name": "stdout",
          "text": [
            "Matrix:\n",
            "[[1 2 5]\n",
            " [3 3 8]\n",
            " [6 1 2]]\n",
            "\n",
            "Shape:\t(3, 3)\n",
            "Rank:\t2\n",
            "Is Square: True\n",
            "\n",
            "Matrix:\n",
            "[[1 2 5]\n",
            " [3 3 8]]\n",
            "\n",
            "Shape:\t(2, 3)\n",
            "Rank:\t2\n",
            "Is Square: False\n",
            "\n"
          ]
        }
      ]
    },
    {
      "cell_type": "markdown",
      "source": [
        "### According to element values"
      ],
      "metadata": {
        "id": "KtaUKQVxsR-f"
      }
    },
    {
      "cell_type": "markdown",
      "source": [
        "#### Null Matrix"
      ],
      "metadata": {
        "id": "XViihkbjsShx"
      }
    },
    {
      "cell_type": "markdown",
      "source": [
        "The term \"null matrix\" refers to a matrix with no elements. Any vector or matrix is always a subspace of it."
      ],
      "metadata": {
        "id": "ExjpfhgjsUzF"
      }
    },
    {
      "cell_type": "code",
      "source": [
        "def describe_mat(matrix):\n",
        "    if matrix.size > 0:\n",
        "        is_square = True if matrix.shape[0] == matrix.shape[1] else False \n",
        "        print(f'Matrix:\\n{matrix}\\n\\nShape:\\t{matrix.shape}\\nRank:\\t{matrix.ndim}\\nIs Square: {is_square}\\n')\n",
        "    else:\n",
        "        print('Matrix is Null')"
      ],
      "metadata": {
        "id": "CTM9n9Fmse0L"
      },
      "execution_count": 11,
      "outputs": []
    },
    {
      "cell_type": "code",
      "source": [
        "null_mat = np.array([])\n",
        "describe_mat(null_mat)"
      ],
      "metadata": {
        "colab": {
          "base_uri": "https://localhost:8080/"
        },
        "id": "qGiufACwsfzZ",
        "outputId": "3e802aef-9332-4f25-9caf-c94365098408"
      },
      "execution_count": 12,
      "outputs": [
        {
          "output_type": "stream",
          "name": "stdout",
          "text": [
            "Matrix is Null\n"
          ]
        }
      ]
    },
    {
      "cell_type": "markdown",
      "source": [
        "#### Zero Matrix"
      ],
      "metadata": {
        "id": "M2ENkTngtW9L"
      }
    },
    {
      "cell_type": "markdown",
      "source": [
        "A zero matrix can be any rectangular matrix with a value of 0 for all of its entries."
      ],
      "metadata": {
        "id": "VStoRTtUtXaa"
      }
    },
    {
      "cell_type": "code",
      "source": [
        "zero_mat_row = np.zeros((1,2))\n",
        "zero_mat_sqr = np.zeros((2,2))\n",
        "zero_mat_rct = np.zeros((3,2))\n",
        "\n",
        "print(f'Zero Row Matrix: \\n{zero_mat_row}')\n",
        "print(f'Zero Square Matrix: \\n{zero_mat_sqr}')\n",
        "print(f'Zero Rectangular Matrix: \\n{zero_mat_rct}')"
      ],
      "metadata": {
        "colab": {
          "base_uri": "https://localhost:8080/"
        },
        "id": "LJzwnJkjtfAM",
        "outputId": "011e4be9-b074-4444-d937-008ad092c69f"
      },
      "execution_count": 13,
      "outputs": [
        {
          "output_type": "stream",
          "name": "stdout",
          "text": [
            "Zero Row Matrix: \n",
            "[[0. 0.]]\n",
            "Zero Square Matrix: \n",
            "[[0. 0.]\n",
            " [0. 0.]]\n",
            "Zero Rectangular Matrix: \n",
            "[[0. 0.]\n",
            " [0. 0.]\n",
            " [0. 0.]]\n"
          ]
        }
      ]
    },
    {
      "cell_type": "markdown",
      "source": [
        "#### Ones Matrix"
      ],
      "metadata": {
        "id": "WOLOUGX2ti58"
      }
    },
    {
      "cell_type": "markdown",
      "source": [
        "A ones matrix, like a zero matrix, can be any rectangular matrix with 1s instead of 0s in all of its members."
      ],
      "metadata": {
        "id": "Tu6C_f0Htjf_"
      }
    },
    {
      "cell_type": "code",
      "source": [
        "ones_mat_row = np.ones((1,2))\n",
        "ones_mat_sqr = np.ones((2,2))\n",
        "ones_mat_rct = np.ones((3,2))\n",
        "\n",
        "print(f'Ones Row Matrix: \\n{ones_mat_row}')\n",
        "print(f'Ones Square Matrix: \\n{ones_mat_sqr}')\n",
        "print(f'Ones Rectangular Matrix: \\n{ones_mat_rct}')"
      ],
      "metadata": {
        "colab": {
          "base_uri": "https://localhost:8080/"
        },
        "id": "bqEksEM8tqgm",
        "outputId": "c388d910-3c00-4d02-84d5-e217422174e1"
      },
      "execution_count": 14,
      "outputs": [
        {
          "output_type": "stream",
          "name": "stdout",
          "text": [
            "Ones Row Matrix: \n",
            "[[1. 1.]]\n",
            "Ones Square Matrix: \n",
            "[[1. 1.]\n",
            " [1. 1.]]\n",
            "Ones Rectangular Matrix: \n",
            "[[1. 1.]\n",
            " [1. 1.]\n",
            " [1. 1.]]\n"
          ]
        }
      ]
    },
    {
      "cell_type": "markdown",
      "source": [
        "#### Diagonal Matrix"
      ],
      "metadata": {
        "id": "4ruZvugBtwmD"
      }
    },
    {
      "cell_type": "markdown",
      "source": [
        "A diagonal matrix is a square matrix that only has values along its diagonal."
      ],
      "metadata": {
        "id": "1qd8GiL8txOn"
      }
    },
    {
      "cell_type": "code",
      "source": [
        "np.array([\n",
        "    [2,0,0],\n",
        "    [0,3,0],\n",
        "    [0,0,5]\n",
        "])\n",
        "# a[1,1], a[2,2], a[3,3], ... a[n-1,n-1]"
      ],
      "metadata": {
        "colab": {
          "base_uri": "https://localhost:8080/"
        },
        "id": "TIT2PoF8uIW8",
        "outputId": "4657dd87-7ba3-4556-fa1d-0109e4e4c200"
      },
      "execution_count": 15,
      "outputs": [
        {
          "output_type": "execute_result",
          "data": {
            "text/plain": [
              "array([[2, 0, 0],\n",
              "       [0, 3, 0],\n",
              "       [0, 0, 5]])"
            ]
          },
          "metadata": {},
          "execution_count": 15
        }
      ]
    },
    {
      "cell_type": "code",
      "source": [
        "d = np.diag([2,3,5,7])\n",
        "np.diag(d).shape == d.shape[0] == d.shape[1]\n"
      ],
      "metadata": {
        "colab": {
          "base_uri": "https://localhost:8080/"
        },
        "id": "iucjKvFkuJcz",
        "outputId": "a3ddf6f0-e035-4531-8bdd-d5fd8bcc20b3"
      },
      "execution_count": 16,
      "outputs": [
        {
          "output_type": "execute_result",
          "data": {
            "text/plain": [
              "False"
            ]
          },
          "metadata": {},
          "execution_count": 16
        }
      ]
    },
    {
      "cell_type": "markdown",
      "source": [
        "#### Identity Matrix"
      ],
      "metadata": {
        "id": "er1iyQQWuNuf"
      }
    },
    {
      "cell_type": "markdown",
      "source": [
        "An identity matrix is a type of diagonal matrix in which the diagonal values are all ones."
      ],
      "metadata": {
        "id": "aHGc42IQuOWQ"
      }
    },
    {
      "cell_type": "code",
      "source": [
        "np.eye(5)"
      ],
      "metadata": {
        "colab": {
          "base_uri": "https://localhost:8080/"
        },
        "id": "GuPvzfCOuUOz",
        "outputId": "ab34dbf5-7eb6-4f75-ab9c-e85917d1db01"
      },
      "execution_count": 17,
      "outputs": [
        {
          "output_type": "execute_result",
          "data": {
            "text/plain": [
              "array([[1., 0., 0., 0., 0.],\n",
              "       [0., 1., 0., 0., 0.],\n",
              "       [0., 0., 1., 0., 0.],\n",
              "       [0., 0., 0., 1., 0.],\n",
              "       [0., 0., 0., 0., 1.]])"
            ]
          },
          "metadata": {},
          "execution_count": 17
        }
      ]
    },
    {
      "cell_type": "code",
      "source": [
        "np.identity(5)"
      ],
      "metadata": {
        "colab": {
          "base_uri": "https://localhost:8080/"
        },
        "id": "lkesjMzbuXTH",
        "outputId": "bdc167fa-48c2-4259-b079-a72af0a76a16"
      },
      "execution_count": 18,
      "outputs": [
        {
          "output_type": "execute_result",
          "data": {
            "text/plain": [
              "array([[1., 0., 0., 0., 0.],\n",
              "       [0., 1., 0., 0., 0.],\n",
              "       [0., 0., 1., 0., 0.],\n",
              "       [0., 0., 0., 1., 0.],\n",
              "       [0., 0., 0., 0., 1.]])"
            ]
          },
          "metadata": {},
          "execution_count": 18
        }
      ]
    },
    {
      "cell_type": "markdown",
      "source": [
        "#### Upper Triangular Matrix"
      ],
      "metadata": {
        "id": "72VVj2SQubRf"
      }
    },
    {
      "cell_type": "markdown",
      "source": [
        "A matrix with no values below the diagonal is known as an upper triangular matrix."
      ],
      "metadata": {
        "id": "4FJ26hp8ubrk"
      }
    },
    {
      "cell_type": "code",
      "source": [
        "np.array([\n",
        "    [1,2,3],\n",
        "    [0,3,1],\n",
        "    [0,0,5]\n",
        "])"
      ],
      "metadata": {
        "colab": {
          "base_uri": "https://localhost:8080/"
        },
        "id": "tFfth-RDuktc",
        "outputId": "e24a00d5-874f-42df-a30e-8f6f995d7edd"
      },
      "execution_count": 19,
      "outputs": [
        {
          "output_type": "execute_result",
          "data": {
            "text/plain": [
              "array([[1, 2, 3],\n",
              "       [0, 3, 1],\n",
              "       [0, 0, 5]])"
            ]
          },
          "metadata": {},
          "execution_count": 19
        }
      ]
    },
    {
      "cell_type": "markdown",
      "source": [
        "#### Lower Triangular Matrix"
      ],
      "metadata": {
        "id": "C-386tgVunEE"
      }
    },
    {
      "cell_type": "markdown",
      "source": [
        "A matrix with no values above the diagonal is known as a lower triangular matrix."
      ],
      "metadata": {
        "id": "bUL0Qja8upLI"
      }
    },
    {
      "cell_type": "code",
      "source": [
        "np.array([\n",
        "    [1,0,0],\n",
        "    [5,3,0],\n",
        "    [7,8,5]\n",
        "])"
      ],
      "metadata": {
        "colab": {
          "base_uri": "https://localhost:8080/"
        },
        "id": "y4Kg2Kz5uyk7",
        "outputId": "e93fd5f6-03fd-4ff4-de42-9ba3fc58e300"
      },
      "execution_count": 20,
      "outputs": [
        {
          "output_type": "execute_result",
          "data": {
            "text/plain": [
              "array([[1, 0, 0],\n",
              "       [5, 3, 0],\n",
              "       [7, 8, 5]])"
            ]
          },
          "metadata": {},
          "execution_count": 20
        }
      ]
    },
    {
      "cell_type": "markdown",
      "source": [
        "## Practice"
      ],
      "metadata": {
        "id": "sRtSwyJIu1Ka"
      }
    },
    {
      "cell_type": "markdown",
      "source": [
        "1. Given the linear combination below, try to create a corresponding matrix representing it."
      ],
      "metadata": {
        "id": "LQ0lFY9hu3Kd"
      }
    },
    {
      "cell_type": "markdown",
      "source": [
        "$$\\theta = 5x + 3y - z$$"
      ],
      "metadata": {
        "id": "N0Hb5gzIu7Hn"
      }
    },
    {
      "cell_type": "code",
      "source": [
        ""
      ],
      "metadata": {
        "id": "7bYe8Fppu_p8"
      },
      "execution_count": null,
      "outputs": []
    },
    {
      "cell_type": "markdown",
      "source": [
        "2. Given the system of linear combinations below, try to encode it as a matrix. Also describe the matrix."
      ],
      "metadata": {
        "id": "Tnzqwy_lvFhI"
      }
    },
    {
      "cell_type": "markdown",
      "source": [
        "$$\n",
        "A = \\left\\{\\begin{array}\n",
        "5x_1 + 2x_2 +x_3\\\\\n",
        "4x_2 - x_3\\\\\n",
        "10x_3\n",
        "\\end{array}\\right.\n",
        "$$"
      ],
      "metadata": {
        "id": "4FSVBQrIvGHN"
      }
    },
    {
      "cell_type": "code",
      "source": [
        ""
      ],
      "metadata": {
        "id": "ZAG_-AgfvJIO"
      },
      "execution_count": null,
      "outputs": []
    },
    {
      "cell_type": "markdown",
      "source": [
        "3. Given the matrix below, express it as a linear combination in a markdown."
      ],
      "metadata": {
        "id": "qrvhOFT8vPZ_"
      }
    },
    {
      "cell_type": "code",
      "source": [
        "G = np.array([\n",
        "    [1,7,8],\n",
        "    [2,2,2],\n",
        "    [4,6,7]\n",
        "])"
      ],
      "metadata": {
        "id": "ZfSLE4egvRnt"
      },
      "execution_count": null,
      "outputs": []
    },
    {
      "cell_type": "markdown",
      "source": [
        ""
      ],
      "metadata": {
        "id": "wQPuCUl6vTWz"
      }
    },
    {
      "cell_type": "markdown",
      "source": [
        ""
      ],
      "metadata": {
        "id": "5R_9j8dDvTif"
      }
    },
    {
      "cell_type": "markdown",
      "source": [
        "4. Given the matrix below, display the output as a LaTeX makdown also express it as a system of linear combinations."
      ],
      "metadata": {
        "id": "tdGKwGRWvVwb"
      }
    },
    {
      "cell_type": "code",
      "source": [
        "H = np.tril(G)\n",
        "H"
      ],
      "metadata": {
        "colab": {
          "base_uri": "https://localhost:8080/"
        },
        "id": "dYf-SZnZvYLd",
        "outputId": "6a264049-8cd3-4650-bfe6-8b9d6e5d08b5"
      },
      "execution_count": 21,
      "outputs": [
        {
          "output_type": "execute_result",
          "data": {
            "text/plain": [
              "array([[1, 0],\n",
              "       [2, 2]])"
            ]
          },
          "metadata": {},
          "execution_count": 21
        }
      ]
    },
    {
      "cell_type": "markdown",
      "source": [
        "# Matrix Algebra"
      ],
      "metadata": {
        "id": "Ica6qtfMvedt"
      }
    },
    {
      "cell_type": "markdown",
      "source": [
        "### Addition"
      ],
      "metadata": {
        "id": "J_U15cZ5vgsA"
      }
    },
    {
      "cell_type": "code",
      "source": [
        "A = np.array([\n",
        "    [1,2],\n",
        "    [2,3],\n",
        "    [4,1]\n",
        "])\n",
        "B = np.array([\n",
        "    [2,2],\n",
        "    [0,0],\n",
        "    [1,1]\n",
        "])\n",
        "A+B"
      ],
      "metadata": {
        "colab": {
          "base_uri": "https://localhost:8080/"
        },
        "id": "h9tBSb4Hvhth",
        "outputId": "a5def8ec-5d50-4388-b506-590f80e01c9c"
      },
      "execution_count": 24,
      "outputs": [
        {
          "output_type": "execute_result",
          "data": {
            "text/plain": [
              "array([[3, 4],\n",
              "       [2, 3],\n",
              "       [5, 2]])"
            ]
          },
          "metadata": {},
          "execution_count": 24
        }
      ]
    },
    {
      "cell_type": "code",
      "source": [
        "2+A ##Broadcasting\n",
        "# 2*np.ones(A.shape)+A"
      ],
      "metadata": {
        "colab": {
          "base_uri": "https://localhost:8080/"
        },
        "id": "OZxWV-mbvkF3",
        "outputId": "024efc29-4241-4529-f70d-55044d699fd2"
      },
      "execution_count": 23,
      "outputs": [
        {
          "output_type": "execute_result",
          "data": {
            "text/plain": [
              "array([[3, 4],\n",
              "       [4, 5],\n",
              "       [6, 3]])"
            ]
          },
          "metadata": {},
          "execution_count": 23
        }
      ]
    },
    {
      "cell_type": "markdown",
      "source": [
        "### Subtraction"
      ],
      "metadata": {
        "id": "lV-K6fJnvro0"
      }
    },
    {
      "cell_type": "code",
      "source": [
        "A-B"
      ],
      "metadata": {
        "colab": {
          "base_uri": "https://localhost:8080/"
        },
        "id": "np8wfJXIvtq7",
        "outputId": "f5bdd05c-7815-433d-a5d4-6b21e8f026ab"
      },
      "execution_count": 25,
      "outputs": [
        {
          "output_type": "execute_result",
          "data": {
            "text/plain": [
              "array([[-1,  0],\n",
              "       [ 2,  3],\n",
              "       [ 3,  0]])"
            ]
          },
          "metadata": {},
          "execution_count": 25
        }
      ]
    },
    {
      "cell_type": "code",
      "source": [
        "3-B == 3*np.ones(B.shape)-B"
      ],
      "metadata": {
        "colab": {
          "base_uri": "https://localhost:8080/"
        },
        "id": "xznhzlTQvu4A",
        "outputId": "53c4cea7-516a-4266-f8fd-00509b63fd3f"
      },
      "execution_count": 26,
      "outputs": [
        {
          "output_type": "execute_result",
          "data": {
            "text/plain": [
              "array([[ True,  True],\n",
              "       [ True,  True],\n",
              "       [ True,  True]])"
            ]
          },
          "metadata": {},
          "execution_count": 26
        }
      ]
    },
    {
      "cell_type": "markdown",
      "source": [
        "### Element-wise Multiplication"
      ],
      "metadata": {
        "id": "HIbdCzvIvyXq"
      }
    },
    {
      "cell_type": "code",
      "source": [
        "A*B\n",
        "np.multiply(A,B)"
      ],
      "metadata": {
        "colab": {
          "base_uri": "https://localhost:8080/"
        },
        "id": "dMNi1f6Rv0-B",
        "outputId": "d8cb3779-3ba5-492f-bcda-4bd810c355cd"
      },
      "execution_count": 27,
      "outputs": [
        {
          "output_type": "execute_result",
          "data": {
            "text/plain": [
              "array([[2, 4],\n",
              "       [0, 0],\n",
              "       [4, 1]])"
            ]
          },
          "metadata": {},
          "execution_count": 27
        }
      ]
    },
    {
      "cell_type": "code",
      "source": [
        "2*A"
      ],
      "metadata": {
        "colab": {
          "base_uri": "https://localhost:8080/"
        },
        "id": "9ic6h7WOv4pu",
        "outputId": "5192402c-dfbe-4d84-9744-d6ea6bc48935"
      },
      "execution_count": 28,
      "outputs": [
        {
          "output_type": "execute_result",
          "data": {
            "text/plain": [
              "array([[2, 4],\n",
              "       [4, 6],\n",
              "       [8, 2]])"
            ]
          },
          "metadata": {},
          "execution_count": 28
        }
      ]
    },
    {
      "cell_type": "code",
      "source": [
        "alpha=10**-10\n",
        "A/(alpha+B)"
      ],
      "metadata": {
        "colab": {
          "base_uri": "https://localhost:8080/"
        },
        "id": "t2hwWQxNv93z",
        "outputId": "75f9ed91-49cb-4990-f507-c24cfffb4e18"
      },
      "execution_count": 29,
      "outputs": [
        {
          "output_type": "execute_result",
          "data": {
            "text/plain": [
              "array([[5.e-01, 1.e+00],\n",
              "       [2.e+10, 3.e+10],\n",
              "       [4.e+00, 1.e+00]])"
            ]
          },
          "metadata": {},
          "execution_count": 29
        }
      ]
    },
    {
      "cell_type": "code",
      "source": [
        "np.add(A,B)"
      ],
      "metadata": {
        "colab": {
          "base_uri": "https://localhost:8080/"
        },
        "id": "ZEbbINt-wAiH",
        "outputId": "a7eb49e5-bf58-4d49-9ffc-1500c5b2499a"
      },
      "execution_count": 30,
      "outputs": [
        {
          "output_type": "execute_result",
          "data": {
            "text/plain": [
              "array([[3, 4],\n",
              "       [2, 3],\n",
              "       [5, 2]])"
            ]
          },
          "metadata": {},
          "execution_count": 30
        }
      ]
    },
    {
      "cell_type": "markdown",
      "source": [
        "## Activity"
      ],
      "metadata": {
        "id": "lZng-KzlwDDz"
      }
    },
    {
      "cell_type": "markdown",
      "source": [
        "### Task 1"
      ],
      "metadata": {
        "id": "jqwMLM6gwFlb"
      }
    },
    {
      "cell_type": "markdown",
      "source": [
        "Create a function named `mat_desc()` that througouhly describes a matrix, it should: <br>\n",
        "1. Displays the shape, size, and rank of the matrix. <br>\n",
        "2. Displays whether the matrix is square or non-square. <br>\n",
        "3. Displays whether the matrix is an empty matrix. <br>\n",
        "4. Displays if the matrix is an identity, ones, or zeros matrix <br>\n",
        "   \n",
        "Use 5 sample matrices in which their shapes are not lower than $(3,3)$.\n",
        "In your methodology, create a flowchart discuss the functions and methods you have done. Present your results in the results section showing the description of each matrix you have declared."
      ],
      "metadata": {
        "id": "kKqo3g20wIEp"
      }
    },
    {
      "cell_type": "code",
      "source": [
        "## Function area \n",
        "def mat_desc(mat):\n",
        "  sq = False\n",
        "  mat = np.array(mat)\n"
      ],
      "metadata": {
        "id": "hLno4Q4UwLGg"
      },
      "execution_count": 32,
      "outputs": []
    },
    {
      "cell_type": "code",
      "source": [
        "## Matrix declarations\n"
      ],
      "metadata": {
        "id": "sx5KGxnZwLjv"
      },
      "execution_count": null,
      "outputs": []
    },
    {
      "cell_type": "code",
      "source": [
        "## Test Areas"
      ],
      "metadata": {
        "id": "KfwUJC3OwNdv"
      },
      "execution_count": null,
      "outputs": []
    },
    {
      "cell_type": "markdown",
      "source": [
        "### Task 2"
      ],
      "metadata": {
        "id": "d8U7x4BDwQzd"
      }
    },
    {
      "cell_type": "markdown",
      "source": [
        "Create a function named `mat_operations()` that takes in two matrices a input parameters it should:<br>\n",
        " 1. Determines if the matrices are viable for operation and returns your own error message if they are not viable.\n",
        " 2. Returns the sum of the matrices.\n",
        " 3. Returns the differen of the matrices.\n",
        " 4. Returns the element-wise multiplication of the matrices.\n",
        " 5. Returns the element-wise division of the matrices.\n",
        "\n",
        "Use 5 sample matrices in which their shapes are not lower than $(3,3)$.\n",
        "In your methodology, create a flowchart discuss the functions and methods you have done. Present your results in the results section showing the description of each matrix you have declared."
      ],
      "metadata": {
        "id": "VFAq-ZhmwRM2"
      }
    },
    {
      "cell_type": "code",
      "source": [
        ""
      ],
      "metadata": {
        "id": "EBZO1eo5wUOI"
      },
      "execution_count": null,
      "outputs": []
    },
    {
      "cell_type": "code",
      "source": [
        ""
      ],
      "metadata": {
        "id": "kuc7k_wdwVHG"
      },
      "execution_count": null,
      "outputs": []
    },
    {
      "cell_type": "code",
      "source": [
        ""
      ],
      "metadata": {
        "id": "F_szB-RPwVOf"
      },
      "execution_count": null,
      "outputs": []
    },
    {
      "cell_type": "markdown",
      "source": [
        "## Conclusion"
      ],
      "metadata": {
        "id": "ryxWRb4PwVhD"
      }
    },
    {
      "cell_type": "markdown",
      "source": [
        "For your conclusion synthesize the concept and application of the laboratory. Briefly discuss what you have learned and achieved in this activity. Also answer the question: \"How can matrix operations solve problems in technology?\"."
      ],
      "metadata": {
        "id": "cj6xdLrwwXp8"
      }
    }
  ]
}