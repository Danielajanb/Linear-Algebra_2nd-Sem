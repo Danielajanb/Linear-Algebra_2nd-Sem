{
  "nbformat": 4,
  "nbformat_minor": 0,
  "metadata": {
    "colab": {
      "name": "Assignment 10",
      "provenance": [],
      "authorship_tag": "ABX9TyNbRDqOgNyh/E7wjnKNbtDO",
      "include_colab_link": true
    },
    "kernelspec": {
      "name": "python3",
      "display_name": "Python 3"
    },
    "language_info": {
      "name": "python"
    }
  },
  "cells": [
    {
      "cell_type": "markdown",
      "metadata": {
        "id": "view-in-github",
        "colab_type": "text"
      },
      "source": [
        "<a href=\"https://colab.research.google.com/github/Danielajanb/Linear-Algebra_2nd-Sem/blob/main/Assignment_10.ipynb\" target=\"_parent\"><img src=\"https://colab.research.google.com/assets/colab-badge.svg\" alt=\"Open In Colab\"/></a>"
      ]
    },
    {
      "cell_type": "markdown",
      "source": [
        "## Laboratory 10 : Linear Combination and Vector Spaces"
      ],
      "metadata": {
        "id": "P5YXq7vPQT1z"
      }
    },
    {
      "cell_type": "markdown",
      "source": [
        "Now that you have a fundamental knowledge about linear combination, we'll try to visualize it using scientific programming."
      ],
      "metadata": {
        "id": "2S6Xf6OvQXc_"
      }
    },
    {
      "cell_type": "markdown",
      "source": [
        "### Objectives\n",
        "At the end of this activity you will be able to:\n",
        "1. Be familiar with representing linear combinations in the 2-dimensional plane.\n",
        "2. Visualize spans using vector fields in Python.\n",
        "3. Perform vector fields operations using scientific programming."
      ],
      "metadata": {
        "id": "4bM5b6VGQZr1"
      }
    },
    {
      "cell_type": "markdown",
      "source": [
        "## Discussion"
      ],
      "metadata": {
        "id": "B1Zk4PClQb-c"
      }
    },
    {
      "cell_type": "code",
      "source": [
        "import numpy as np\n",
        "import matplotlib.pyplot as plt\n",
        "%matplotlib inline"
      ],
      "metadata": {
        "id": "NQ7txCPxQf4v"
      },
      "execution_count": 1,
      "outputs": []
    },
    {
      "cell_type": "markdown",
      "source": [
        "## Linear Combination"
      ],
      "metadata": {
        "id": "AvLIDJVZQim3"
      }
    },
    {
      "cell_type": "markdown",
      "source": [
        "It is said that a linear combination is the combination of linear scaling and addition of a vector its bases/components"
      ],
      "metadata": {
        "id": "5i3u1tHBQmFK"
      }
    },
    {
      "cell_type": "markdown",
      "source": [
        "We will try to visualize the vectors and their linear combinations by plotting a sample of real number values for the scalars for the vectors. Let's first try the vectors below:"
      ],
      "metadata": {
        "id": "7tnyYLrzQrgQ"
      }
    },
    {
      "cell_type": "markdown",
      "source": [
        "$$X = \\begin{bmatrix} 2\\\\4 \\\\\\end{bmatrix} , Y = \\begin{bmatrix} 3\\\\6 \\\\\\end{bmatrix} $$"
      ],
      "metadata": {
        "id": "WefxPAfLQtoo"
      }
    },
    {
      "cell_type": "code",
      "source": [
        "vectX =  np.array([2,4])\n",
        "vectY =  np.array([3,6])"
      ],
      "metadata": {
        "id": "EOhwN64aQ02-"
      },
      "execution_count": null,
      "outputs": []
    },
    {
      "cell_type": "markdown",
      "source": [
        "#### Span of single vectors"
      ],
      "metadata": {
        "id": "Cg5hPJf-Qzel"
      }
    },
    {
      "cell_type": "markdown",
      "source": [
        "As discussed in the lecture, the span of individual vectors can be represented by a line span. Let's take vector $X$ as an example."
      ],
      "metadata": {
        "id": "hhp5e1GeQ8cz"
      }
    },
    {
      "cell_type": "markdown",
      "source": [
        "$$X = c\\cdot \\begin{bmatrix} 2\\\\4 \\\\\\end{bmatrix} $$"
      ],
      "metadata": {
        "id": "u-t-fAGUQ-th"
      }
    },
    {
      "cell_type": "code",
      "source": [
        "c = np.arange(-11,10,0.15)\n",
        "\n",
        "plt.scatter(c*vectX[0],c*vectX[1], color='green')\n",
        "\n",
        "plt.xlim(-11,11)\n",
        "plt.ylim(-11,11)\n",
        "plt.axhline(y=0, color='k')\n",
        "plt.axvline(x=0, color='k')\n",
        "plt.grid()\n",
        "plt.show()"
      ],
      "metadata": {
        "colab": {
          "base_uri": "https://localhost:8080/",
          "height": 265
        },
        "id": "3I6SLkPkRFo5",
        "outputId": "ff7202f1-6c58-41ef-c8f7-e3d3ea6db994"
      },
      "execution_count": null,
      "outputs": [
        {
          "output_type": "display_data",
          "data": {
            "text/plain": [
              "<Figure size 432x288 with 1 Axes>"
            ],
            "image/png": "[encoded data removed]"
          },
          "metadata": {
            "needs_background": "light"
          }
        }
      ]
    },
    {
      "cell_type": "markdown",
      "source": [
        "$$Y = c\\cdot \\begin{bmatrix} 3\\\\6 \\\\\\end{bmatrix} $$"
      ],
      "metadata": {
        "id": "H-dIzfCKRpHe"
      }
    },
    {
      "cell_type": "code",
      "source": [
        "c = np.arange(-20,4,0.16)\n",
        "\n",
        "plt.scatter(c*vectY[0],c*vectY[1], color='blue')\n",
        "\n",
        "plt.xlim(-18,18)\n",
        "plt.ylim(-18,18)\n",
        "plt.axhline(y=0, color='k')\n",
        "plt.axvline(x=0, color='k')\n",
        "plt.grid()\n",
        "plt.show()"
      ],
      "metadata": {
        "colab": {
          "base_uri": "https://localhost:8080/",
          "height": 265
        },
        "id": "PLW318GHRvVf",
        "outputId": "ec6fac27-b84e-47e7-d438-d0567b6ee043"
      },
      "execution_count": null,
      "outputs": [
        {
          "output_type": "display_data",
          "data": {
            "text/plain": [
              "<Figure size 432x288 with 1 Axes>"
            ],
            "image/png": "[encoded data removed]"
          },
          "metadata": {
            "needs_background": "light"
          }
        }
      ]
    },
    {
      "cell_type": "markdown",
      "source": [
        "### Span of a linear combination of vectors"
      ],
      "metadata": {
        "id": "M2lWTNMdSDzz"
      }
    },
    {
      "cell_type": "markdown",
      "source": [
        "So what if we are to plot the span of a linear combination of vectors? We can visualize as a plane on the 2-dimensional coordinate system. Let's take the span of the linear combination below:"
      ],
      "metadata": {
        "id": "nrpXaCAwSEOr"
      }
    },
    {
      "cell_type": "markdown",
      "source": [
        "$$S = \\begin{Bmatrix} c_1 \\cdot\\begin{bmatrix} -1\\\\0 \\\\\\end{bmatrix}, \n",
        "c_2 \\cdot \\begin{bmatrix} 1\\\\-1 \\\\\\end{bmatrix}\\end{Bmatrix} $$"
      ],
      "metadata": {
        "id": "lfbVflB6SIdw"
      }
    },
    {
      "cell_type": "code",
      "source": [
        " vectA = np.array([-1,0])\n",
        "vectB = np.array([1,-1])\n",
        "\n",
        "R = np.arange(-16,10,0.84)\n",
        "\n",
        "c1, c2 = np.meshgrid(R,R)\n",
        "\n",
        "vectR = vectA + vectB\n",
        "spanRx = c1*vectA[0] + c2*vectB[0]\n",
        "spanRy = c1*vectA[1] + c2*vectB[1]\n",
        "##plt.scatter(R*vectA[0],R*vectA[1])\n",
        "##plt.scatter(R*vectB[0],R*vectB[1])\n",
        "plt.scatter(spanRx,spanRy, s=5, alpha=0.75, color='magenta')\n",
        "\n",
        "plt.axhline(y=0, color='k')\n",
        "plt.axvline(x=0, color='k')\n",
        "plt.grid()\n",
        "plt.show()"
      ],
      "metadata": {
        "colab": {
          "base_uri": "https://localhost:8080/",
          "height": 265
        },
        "id": "3LrFJ4gXSNge",
        "outputId": "d523c0f9-563b-4647-aa78-58a2420bb291"
      },
      "execution_count": null,
      "outputs": [
        {
          "output_type": "display_data",
          "data": {
            "text/plain": [
              "<Figure size 432x288 with 1 Axes>"
            ],
            "image/png": "[encoded data removed]"
          },
          "metadata": {
            "needs_background": "light"
          }
        }
      ]
    },
    {
      "cell_type": "code",
      "source": [
        "vectP = np.array([2,4])\n",
        "vectQ = np.array([3,6])\n",
        "\n",
        "R = np.arange(-25,13,1)\n",
        "\n",
        "c1, c2 = np.meshgrid(R,R)\n",
        "\n",
        "vectR = vectP + vectQ\n",
        "spanRx = c1*vectP[0] + c2*vectQ[0]\n",
        "spanRy = c1*vectP[1] + c2*vectQ[1]\n",
        "##plt.scatter(R*vectA[0],R*vectA[1])\n",
        "##plt.scatter(R*vectB[0],R*vectB[1])\n",
        "plt.scatter(spanRx,spanRy, s=5, alpha=0.75, color='pink')\n",
        "\n",
        "plt.axhline(y=0, color='k')\n",
        "plt.axvline(x=0, color='k')\n",
        "plt.grid()\n",
        "plt.show()"
      ],
      "metadata": {
        "colab": {
          "base_uri": "https://localhost:8080/",
          "height": 265
        },
        "id": "FSPG0mIDScpj",
        "outputId": "da3986fe-8a14-48b6-b2cb-4fb07d805cfc"
      },
      "execution_count": null,
      "outputs": [
        {
          "output_type": "display_data",
          "data": {
            "text/plain": [
              "<Figure size 432x288 with 1 Axes>"
            ],
            "image/png": "[encoded data removed]"
          },
          "metadata": {
            "needs_background": "light"
          }
        }
      ]
    },
    {
      "cell_type": "markdown",
      "source": [
        "Take note that if vectors are seen to be as a 2-dimensional span we can say it has a Rank of 2 or $\\mathbb{R}^2$. But if the span of the linear combination of vectors are seen to be like a line, they are said to be <b> linearly dependent </b> and they have a rank of 1 or $\\mathbb{R}^1$."
      ],
      "metadata": {
        "id": "as6UmCh0Svrn"
      }
    },
    {
      "cell_type": "markdown",
      "source": [
        "### Task 1"
      ],
      "metadata": {
        "id": "lKtPQJibSwWi"
      }
    },
    {
      "cell_type": "markdown",
      "source": [
        "Try different linear combinations using different scalar values. In your methodology discuss the different functions that you have used, the  linear equation and vector form of the linear combination, and the flowchart for declaring and displaying linear combinations. Please make sure that your flowchart has only few words and not putting the entire code as it is bad practice. In your results, display and discuss the linear combination visualization you made. You should use the cells below for displaying the equation markdows using LaTeX and your code."
      ],
      "metadata": {
        "id": "fiSlR_XiSyin"
      }
    },
    {
      "cell_type": "markdown",
      "source": [
        "$$\n",
        "Z= 5x \\\\ M= 2x + 4y\\\\\n",
        "$$"
      ],
      "metadata": {
        "id": "Rgz8IocJS0yh"
      }
    },
    {
      "cell_type": "markdown",
      "source": [
        "$$ Z = \\begin{bmatrix} 5\\end{bmatrix} , M = \\begin{bmatrix} 2 \\\\ 4\\end{bmatrix}\n",
        "$$\n",
        "$$ Z = \\begin{bmatrix} 5\\end{bmatrix} , M = \\begin{bmatrix} 2 & 4\\end{bmatrix}\n",
        "$$"
      ],
      "metadata": {
        "id": "3ZrslaMgS6Bx"
      }
    },
    {
      "cell_type": "code",
      "source": [
        "vectZ = np.array([4,8])\n",
        "vectM = np.array([9,-36])\n",
        "\n",
        "R = np.arange(-18,7,1)\n",
        "\n",
        "c1, c2 = np.meshgrid(R,R)\n",
        "\n",
        "vectR = vectZ + vectM\n",
        "spanRx = c1*vectZ[0] + c2*vectM[0]\n",
        "spanRy = c1*vectZ[1] + c2*vectM[1]\n",
        "##plt.scatter(R*vectA[0],R*vectA[1])\n",
        "##plt.scatter(R*vectB[0],R*vectB[1])\n",
        "plt.scatter(spanRx,spanRy, s=5, alpha=0.75, color='purple')\n",
        "\n",
        "plt.axhline(y=0, color='k')\n",
        "plt.axvline(x=0, color='k')\n",
        "plt.grid()\n",
        "plt.show()"
      ],
      "metadata": {
        "colab": {
          "base_uri": "https://localhost:8080/",
          "height": 265
        },
        "id": "zV0KAvZ1TGRv",
        "outputId": "6eac92f1-869a-426e-9122-0dac061a79be"
      },
      "execution_count": 3,
      "outputs": [
        {
          "output_type": "display_data",
          "data": {
            "text/plain": [
              "<Figure size 432x288 with 1 Axes>"
            ],
            "image/png": "[encoded data removed]"
          },
          "metadata": {
            "needs_background": "light"
          }
        }
      ]
    },
    {
      "cell_type": "markdown",
      "source": [
        "For your conclusion synthesize the concept and application of the laboratory. Briefly discuss what you have learn and achieved in this activity. At the end of your conclusion try to answer the question : \"How can you apply the concept of linear combination in engineering or real-life situations?\"."
      ],
      "metadata": {
        "id": "AHiK_SoZTYe1"
      }
    },
    {
      "cell_type": "markdown",
      "source": [
        "Linear functions is a combination of statistics and solving. It applies in real life situation such as computing your monthly income and monthly savings. Assume that toy sales increase linearly month after month, you can use the formula for linear regression. You can also make graphs that makes it easier to understand. Distance and rate problems, pricing problems, calculating dimensions, and combining varying percentages of solutions are all instances of real-life linear equations. For example, calculating the cost of a blouse on sale for $100 and marked down by 50% before the sale. "
      ],
      "metadata": {
        "id": "a5466HlCTZIX"
      }
    }
  ]
}